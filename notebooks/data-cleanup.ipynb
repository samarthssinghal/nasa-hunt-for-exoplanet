{
 "cells": [
  {
   "cell_type": "code",
   "id": "initial_id",
   "metadata": {
    "collapsed": true,
    "ExecuteTime": {
     "end_time": "2025-09-29T23:17:34.384043Z",
     "start_time": "2025-09-29T23:17:34.381418Z"
    }
   },
   "source": "import pandas as pd",
   "outputs": [],
   "execution_count": 10
  },
  {
   "metadata": {
    "ExecuteTime": {
     "end_time": "2025-09-29T23:17:35.330765Z",
     "start_time": "2025-09-29T23:17:35.127469Z"
    }
   },
   "cell_type": "code",
   "source": [
    "koi_df = pd.read_csv(\"../data/cumulative_2025.09.21_17.22.39.csv\", skiprows=144)\n",
    "toi_df = pd.read_csv(\"../data/TOI_2025.09.21_17.24.45.csv\", skiprows=90)\n",
    "k2_df = pd.read_csv(\"../data/k2pandc_2025.09.21_17.26.00.csv\", skiprows=298)"
   ],
   "id": "8371b6439adae020",
   "outputs": [],
   "execution_count": 11
  },
  {
   "metadata": {
    "ExecuteTime": {
     "end_time": "2025-09-29T23:17:35.881936Z",
     "start_time": "2025-09-29T23:17:35.874274Z"
    }
   },
   "cell_type": "code",
   "source": [
    "koi_df = koi_df[['koi_period', 'koi_time0bk', 'koi_duration', 'koi_depth', 'koi_prad', 'koi_insol', 'koi_teq', 'koi_steff', 'koi_slogg', 'koi_srad', 'koi_disposition']]\n",
    "koi_df = koi_df.rename(columns={\n",
    "    'koi_period': 'orbital_period',\n",
    "    'koi_time0bk': 'transit_epoch',\n",
    "    'koi_duration': 'transit_duration',\n",
    "    'koi_depth': 'transit_depth',\n",
    "    'koi_prad': 'planet_radius',\n",
    "    'koi_insol': 'insolation_flux',\n",
    "    'koi_teq': 'equilibrium_temp',\n",
    "    'koi_steff': 'effective_temp',\n",
    "    'koi_slogg': 'surface_gravity',\n",
    "    'koi_srad': 'stellar_radius',\n",
    "    'koi_disposition': 'disposition'\n",
    "})\n",
    "koi_df['dataset'] = 'KOI'\n",
    "koi_df.shape"
   ],
   "id": "dc2110367849a8b1",
   "outputs": [
    {
     "data": {
      "text/plain": [
       "(9564, 12)"
      ]
     },
     "execution_count": 12,
     "metadata": {},
     "output_type": "execute_result"
    }
   ],
   "execution_count": 12
  },
  {
   "metadata": {
    "ExecuteTime": {
     "end_time": "2025-09-29T23:17:37.149251Z",
     "start_time": "2025-09-29T23:17:37.143120Z"
    }
   },
   "cell_type": "code",
   "source": [
    "toi_df = toi_df[['pl_orbper', 'pl_tranmid', 'pl_trandurh', 'pl_trandep', 'pl_rade', 'pl_insol', 'pl_eqt','st_teff', 'st_logg', 'st_rad', 'tfopwg_disp']]\n",
    "toi_df = toi_df.rename(columns={\n",
    "    'pl_orbper': 'orbital_period',\n",
    "    'pl_tranmid': 'transit_epoch',\n",
    "    'pl_trandurh': 'transit_duration',\n",
    "    'pl_trandep': 'transit_depth',\n",
    "    'pl_rade': 'planet_radius',\n",
    "    'pl_insol': 'insolation_flux',\n",
    "    'pl_eqt': 'equilibrium_temp',\n",
    "    'st_teff': 'effective_temp',\n",
    "    'st_logg': 'surface_gravity',\n",
    "    'st_rad': 'stellar_radius',\n",
    "    'tfopwg_disp': 'disposition'\n",
    "})\n",
    "toi_df['dataset'] = 'TOI'\n",
    "toi_df.shape"
   ],
   "id": "940649c86b630cab",
   "outputs": [
    {
     "data": {
      "text/plain": [
       "(7668, 12)"
      ]
     },
     "execution_count": 13,
     "metadata": {},
     "output_type": "execute_result"
    }
   ],
   "execution_count": 13
  },
  {
   "metadata": {
    "ExecuteTime": {
     "end_time": "2025-09-29T23:17:37.578985Z",
     "start_time": "2025-09-29T23:17:37.572372Z"
    }
   },
   "cell_type": "code",
   "source": [
    "k2_df = k2_df[['pl_orbper', 'pl_tranmid', 'pl_trandur', 'pl_trandep', 'pl_rade', 'pl_insol', 'pl_eqt','st_teff', 'st_logg', 'st_rad', 'disposition']]\n",
    "k2_df = k2_df.rename(columns={\n",
    "    'pl_orbper': 'orbital_period',\n",
    "    'pl_tranmid': 'transit_epoch',\n",
    "    'pl_trandur': 'transit_duration',\n",
    "    'pl_trandep': 'transit_depth',\n",
    "    'pl_rade': 'planet_radius',\n",
    "    'pl_insol': 'insolation_flux',\n",
    "    'pl_eqt': 'equilibrium_temp',\n",
    "    'st_teff': 'effective_temp',\n",
    "    'st_logg': 'surface_gravity',\n",
    "    'st_rad': 'stellar_radius',\n",
    "    'disposition': 'disposition'\n",
    "})\n",
    "k2_df['dataset'] = 'K2'\n",
    "k2_df.shape"
   ],
   "id": "17a05a7949540a47",
   "outputs": [
    {
     "data": {
      "text/plain": [
       "(3992, 12)"
      ]
     },
     "execution_count": 14,
     "metadata": {},
     "output_type": "execute_result"
    }
   ],
   "execution_count": 14
  },
  {
   "metadata": {
    "ExecuteTime": {
     "end_time": "2025-09-29T23:17:43.161763Z",
     "start_time": "2025-09-29T23:17:43.155664Z"
    }
   },
   "cell_type": "code",
   "source": [
    "df = pd.concat([koi_df, toi_df], ignore_index=True)\n",
    "df = df.drop(columns=['insolation_flux', 'equilibrium_temp', 'surface_gravity', 'stellar_radius', 'effective_temp'])\n",
    "df"
   ],
   "id": "2a5518814c4f9244",
   "outputs": [
    {
     "data": {
      "text/plain": [
       "       orbital_period  transit_epoch  transit_duration  transit_depth  \\\n",
       "0            9.488036   1.705387e+02          2.957500     615.800000   \n",
       "1           54.418383   1.625138e+02          4.507000     874.800000   \n",
       "2           19.899140   1.758503e+02          1.782200   10829.000000   \n",
       "3            1.736952   1.703076e+02          2.406410    8079.200000   \n",
       "4            2.525592   1.715956e+02          1.654500     603.300000   \n",
       "...               ...            ...               ...            ...   \n",
       "17227        3.443800   2.458494e+06          2.572000    7260.750000   \n",
       "17228       14.537800   2.458495e+06          6.826000    4040.000000   \n",
       "17229        8.413486   2.459230e+06          3.556833   17479.605331   \n",
       "17230        0.941436   2.459230e+06          1.360700     339.912662   \n",
       "17231        1.507896   2.459986e+06          2.759000    1839.000000   \n",
       "\n",
       "       planet_radius     disposition dataset  \n",
       "0           2.260000       CONFIRMED     KOI  \n",
       "1           2.830000       CONFIRMED     KOI  \n",
       "2          14.600000       CANDIDATE     KOI  \n",
       "3          33.460000  FALSE POSITIVE     KOI  \n",
       "4           2.750000       CONFIRMED     KOI  \n",
       "...              ...             ...     ...  \n",
       "17227            NaN              FP     TOI  \n",
       "17228      16.052300              FP     TOI  \n",
       "17229      20.510696              FP     TOI  \n",
       "17230       4.529209              FP     TOI  \n",
       "17231       5.530910              FP     TOI  \n",
       "\n",
       "[17232 rows x 7 columns]"
      ],
      "text/html": [
       "<div>\n",
       "<style scoped>\n",
       "    .dataframe tbody tr th:only-of-type {\n",
       "        vertical-align: middle;\n",
       "    }\n",
       "\n",
       "    .dataframe tbody tr th {\n",
       "        vertical-align: top;\n",
       "    }\n",
       "\n",
       "    .dataframe thead th {\n",
       "        text-align: right;\n",
       "    }\n",
       "</style>\n",
       "<table border=\"1\" class=\"dataframe\">\n",
       "  <thead>\n",
       "    <tr style=\"text-align: right;\">\n",
       "      <th></th>\n",
       "      <th>orbital_period</th>\n",
       "      <th>transit_epoch</th>\n",
       "      <th>transit_duration</th>\n",
       "      <th>transit_depth</th>\n",
       "      <th>planet_radius</th>\n",
       "      <th>disposition</th>\n",
       "      <th>dataset</th>\n",
       "    </tr>\n",
       "  </thead>\n",
       "  <tbody>\n",
       "    <tr>\n",
       "      <th>0</th>\n",
       "      <td>9.488036</td>\n",
       "      <td>1.705387e+02</td>\n",
       "      <td>2.957500</td>\n",
       "      <td>615.800000</td>\n",
       "      <td>2.260000</td>\n",
       "      <td>CONFIRMED</td>\n",
       "      <td>KOI</td>\n",
       "    </tr>\n",
       "    <tr>\n",
       "      <th>1</th>\n",
       "      <td>54.418383</td>\n",
       "      <td>1.625138e+02</td>\n",
       "      <td>4.507000</td>\n",
       "      <td>874.800000</td>\n",
       "      <td>2.830000</td>\n",
       "      <td>CONFIRMED</td>\n",
       "      <td>KOI</td>\n",
       "    </tr>\n",
       "    <tr>\n",
       "      <th>2</th>\n",
       "      <td>19.899140</td>\n",
       "      <td>1.758503e+02</td>\n",
       "      <td>1.782200</td>\n",
       "      <td>10829.000000</td>\n",
       "      <td>14.600000</td>\n",
       "      <td>CANDIDATE</td>\n",
       "      <td>KOI</td>\n",
       "    </tr>\n",
       "    <tr>\n",
       "      <th>3</th>\n",
       "      <td>1.736952</td>\n",
       "      <td>1.703076e+02</td>\n",
       "      <td>2.406410</td>\n",
       "      <td>8079.200000</td>\n",
       "      <td>33.460000</td>\n",
       "      <td>FALSE POSITIVE</td>\n",
       "      <td>KOI</td>\n",
       "    </tr>\n",
       "    <tr>\n",
       "      <th>4</th>\n",
       "      <td>2.525592</td>\n",
       "      <td>1.715956e+02</td>\n",
       "      <td>1.654500</td>\n",
       "      <td>603.300000</td>\n",
       "      <td>2.750000</td>\n",
       "      <td>CONFIRMED</td>\n",
       "      <td>KOI</td>\n",
       "    </tr>\n",
       "    <tr>\n",
       "      <th>...</th>\n",
       "      <td>...</td>\n",
       "      <td>...</td>\n",
       "      <td>...</td>\n",
       "      <td>...</td>\n",
       "      <td>...</td>\n",
       "      <td>...</td>\n",
       "      <td>...</td>\n",
       "    </tr>\n",
       "    <tr>\n",
       "      <th>17227</th>\n",
       "      <td>3.443800</td>\n",
       "      <td>2.458494e+06</td>\n",
       "      <td>2.572000</td>\n",
       "      <td>7260.750000</td>\n",
       "      <td>NaN</td>\n",
       "      <td>FP</td>\n",
       "      <td>TOI</td>\n",
       "    </tr>\n",
       "    <tr>\n",
       "      <th>17228</th>\n",
       "      <td>14.537800</td>\n",
       "      <td>2.458495e+06</td>\n",
       "      <td>6.826000</td>\n",
       "      <td>4040.000000</td>\n",
       "      <td>16.052300</td>\n",
       "      <td>FP</td>\n",
       "      <td>TOI</td>\n",
       "    </tr>\n",
       "    <tr>\n",
       "      <th>17229</th>\n",
       "      <td>8.413486</td>\n",
       "      <td>2.459230e+06</td>\n",
       "      <td>3.556833</td>\n",
       "      <td>17479.605331</td>\n",
       "      <td>20.510696</td>\n",
       "      <td>FP</td>\n",
       "      <td>TOI</td>\n",
       "    </tr>\n",
       "    <tr>\n",
       "      <th>17230</th>\n",
       "      <td>0.941436</td>\n",
       "      <td>2.459230e+06</td>\n",
       "      <td>1.360700</td>\n",
       "      <td>339.912662</td>\n",
       "      <td>4.529209</td>\n",
       "      <td>FP</td>\n",
       "      <td>TOI</td>\n",
       "    </tr>\n",
       "    <tr>\n",
       "      <th>17231</th>\n",
       "      <td>1.507896</td>\n",
       "      <td>2.459986e+06</td>\n",
       "      <td>2.759000</td>\n",
       "      <td>1839.000000</td>\n",
       "      <td>5.530910</td>\n",
       "      <td>FP</td>\n",
       "      <td>TOI</td>\n",
       "    </tr>\n",
       "  </tbody>\n",
       "</table>\n",
       "<p>17232 rows × 7 columns</p>\n",
       "</div>"
      ]
     },
     "execution_count": 15,
     "metadata": {},
     "output_type": "execute_result"
    }
   ],
   "execution_count": 15
  },
  {
   "metadata": {
    "ExecuteTime": {
     "end_time": "2025-09-29T23:17:44.755952Z",
     "start_time": "2025-09-29T23:17:44.752531Z"
    }
   },
   "cell_type": "code",
   "source": "df.shape",
   "id": "ceff4dcfed415a14",
   "outputs": [
    {
     "data": {
      "text/plain": [
       "(17232, 7)"
      ]
     },
     "execution_count": 16,
     "metadata": {},
     "output_type": "execute_result"
    }
   ],
   "execution_count": 16
  },
  {
   "metadata": {
    "ExecuteTime": {
     "end_time": "2025-09-29T23:17:48.254655Z",
     "start_time": "2025-09-29T23:17:48.248231Z"
    }
   },
   "cell_type": "code",
   "source": [
    "df = df.dropna()\n",
    "df.shape"
   ],
   "id": "7ab82bbe4a51d3e0",
   "outputs": [
    {
     "data": {
      "text/plain": [
       "(16259, 7)"
      ]
     },
     "execution_count": 17,
     "metadata": {},
     "output_type": "execute_result"
    }
   ],
   "execution_count": 17
  },
  {
   "metadata": {
    "ExecuteTime": {
     "end_time": "2025-09-29T23:17:52.706587Z",
     "start_time": "2025-09-29T23:17:52.699828Z"
    }
   },
   "cell_type": "code",
   "source": "df",
   "id": "7e1637bd2eff5d83",
   "outputs": [
    {
     "data": {
      "text/plain": [
       "       orbital_period  transit_epoch  transit_duration  transit_depth  \\\n",
       "0            9.488036   1.705387e+02          2.957500     615.800000   \n",
       "1           54.418383   1.625138e+02          4.507000     874.800000   \n",
       "2           19.899140   1.758503e+02          1.782200   10829.000000   \n",
       "3            1.736952   1.703076e+02          2.406410    8079.200000   \n",
       "4            2.525592   1.715956e+02          1.654500     603.300000   \n",
       "...               ...            ...               ...            ...   \n",
       "17226        2.396722   2.459230e+06          3.945317     384.898547   \n",
       "17228       14.537800   2.458495e+06          6.826000    4040.000000   \n",
       "17229        8.413486   2.459230e+06          3.556833   17479.605331   \n",
       "17230        0.941436   2.459230e+06          1.360700     339.912662   \n",
       "17231        1.507896   2.459986e+06          2.759000    1839.000000   \n",
       "\n",
       "       planet_radius     disposition dataset  \n",
       "0           2.260000       CONFIRMED     KOI  \n",
       "1           2.830000       CONFIRMED     KOI  \n",
       "2          14.600000       CANDIDATE     KOI  \n",
       "3          33.460000  FALSE POSITIVE     KOI  \n",
       "4           2.750000       CONFIRMED     KOI  \n",
       "...              ...             ...     ...  \n",
       "17226       3.838449              FP     TOI  \n",
       "17228      16.052300              FP     TOI  \n",
       "17229      20.510696              FP     TOI  \n",
       "17230       4.529209              FP     TOI  \n",
       "17231       5.530910              FP     TOI  \n",
       "\n",
       "[16259 rows x 7 columns]"
      ],
      "text/html": [
       "<div>\n",
       "<style scoped>\n",
       "    .dataframe tbody tr th:only-of-type {\n",
       "        vertical-align: middle;\n",
       "    }\n",
       "\n",
       "    .dataframe tbody tr th {\n",
       "        vertical-align: top;\n",
       "    }\n",
       "\n",
       "    .dataframe thead th {\n",
       "        text-align: right;\n",
       "    }\n",
       "</style>\n",
       "<table border=\"1\" class=\"dataframe\">\n",
       "  <thead>\n",
       "    <tr style=\"text-align: right;\">\n",
       "      <th></th>\n",
       "      <th>orbital_period</th>\n",
       "      <th>transit_epoch</th>\n",
       "      <th>transit_duration</th>\n",
       "      <th>transit_depth</th>\n",
       "      <th>planet_radius</th>\n",
       "      <th>disposition</th>\n",
       "      <th>dataset</th>\n",
       "    </tr>\n",
       "  </thead>\n",
       "  <tbody>\n",
       "    <tr>\n",
       "      <th>0</th>\n",
       "      <td>9.488036</td>\n",
       "      <td>1.705387e+02</td>\n",
       "      <td>2.957500</td>\n",
       "      <td>615.800000</td>\n",
       "      <td>2.260000</td>\n",
       "      <td>CONFIRMED</td>\n",
       "      <td>KOI</td>\n",
       "    </tr>\n",
       "    <tr>\n",
       "      <th>1</th>\n",
       "      <td>54.418383</td>\n",
       "      <td>1.625138e+02</td>\n",
       "      <td>4.507000</td>\n",
       "      <td>874.800000</td>\n",
       "      <td>2.830000</td>\n",
       "      <td>CONFIRMED</td>\n",
       "      <td>KOI</td>\n",
       "    </tr>\n",
       "    <tr>\n",
       "      <th>2</th>\n",
       "      <td>19.899140</td>\n",
       "      <td>1.758503e+02</td>\n",
       "      <td>1.782200</td>\n",
       "      <td>10829.000000</td>\n",
       "      <td>14.600000</td>\n",
       "      <td>CANDIDATE</td>\n",
       "      <td>KOI</td>\n",
       "    </tr>\n",
       "    <tr>\n",
       "      <th>3</th>\n",
       "      <td>1.736952</td>\n",
       "      <td>1.703076e+02</td>\n",
       "      <td>2.406410</td>\n",
       "      <td>8079.200000</td>\n",
       "      <td>33.460000</td>\n",
       "      <td>FALSE POSITIVE</td>\n",
       "      <td>KOI</td>\n",
       "    </tr>\n",
       "    <tr>\n",
       "      <th>4</th>\n",
       "      <td>2.525592</td>\n",
       "      <td>1.715956e+02</td>\n",
       "      <td>1.654500</td>\n",
       "      <td>603.300000</td>\n",
       "      <td>2.750000</td>\n",
       "      <td>CONFIRMED</td>\n",
       "      <td>KOI</td>\n",
       "    </tr>\n",
       "    <tr>\n",
       "      <th>...</th>\n",
       "      <td>...</td>\n",
       "      <td>...</td>\n",
       "      <td>...</td>\n",
       "      <td>...</td>\n",
       "      <td>...</td>\n",
       "      <td>...</td>\n",
       "      <td>...</td>\n",
       "    </tr>\n",
       "    <tr>\n",
       "      <th>17226</th>\n",
       "      <td>2.396722</td>\n",
       "      <td>2.459230e+06</td>\n",
       "      <td>3.945317</td>\n",
       "      <td>384.898547</td>\n",
       "      <td>3.838449</td>\n",
       "      <td>FP</td>\n",
       "      <td>TOI</td>\n",
       "    </tr>\n",
       "    <tr>\n",
       "      <th>17228</th>\n",
       "      <td>14.537800</td>\n",
       "      <td>2.458495e+06</td>\n",
       "      <td>6.826000</td>\n",
       "      <td>4040.000000</td>\n",
       "      <td>16.052300</td>\n",
       "      <td>FP</td>\n",
       "      <td>TOI</td>\n",
       "    </tr>\n",
       "    <tr>\n",
       "      <th>17229</th>\n",
       "      <td>8.413486</td>\n",
       "      <td>2.459230e+06</td>\n",
       "      <td>3.556833</td>\n",
       "      <td>17479.605331</td>\n",
       "      <td>20.510696</td>\n",
       "      <td>FP</td>\n",
       "      <td>TOI</td>\n",
       "    </tr>\n",
       "    <tr>\n",
       "      <th>17230</th>\n",
       "      <td>0.941436</td>\n",
       "      <td>2.459230e+06</td>\n",
       "      <td>1.360700</td>\n",
       "      <td>339.912662</td>\n",
       "      <td>4.529209</td>\n",
       "      <td>FP</td>\n",
       "      <td>TOI</td>\n",
       "    </tr>\n",
       "    <tr>\n",
       "      <th>17231</th>\n",
       "      <td>1.507896</td>\n",
       "      <td>2.459986e+06</td>\n",
       "      <td>2.759000</td>\n",
       "      <td>1839.000000</td>\n",
       "      <td>5.530910</td>\n",
       "      <td>FP</td>\n",
       "      <td>TOI</td>\n",
       "    </tr>\n",
       "  </tbody>\n",
       "</table>\n",
       "<p>16259 rows × 7 columns</p>\n",
       "</div>"
      ]
     },
     "execution_count": 18,
     "metadata": {},
     "output_type": "execute_result"
    }
   ],
   "execution_count": 18
  },
  {
   "metadata": {
    "ExecuteTime": {
     "end_time": "2025-09-29T23:18:07.352191Z",
     "start_time": "2025-09-29T23:18:07.348451Z"
    }
   },
   "cell_type": "code",
   "source": "df['disposition'].value_counts()",
   "id": "ff8e2d49195bda8a",
   "outputs": [
    {
     "data": {
      "text/plain": [
       "disposition\n",
       "FALSE POSITIVE    4582\n",
       "PC                4266\n",
       "CONFIRMED         2744\n",
       "CANDIDATE         1875\n",
       "FP                1069\n",
       "CP                 670\n",
       "KP                 549\n",
       "APC                420\n",
       "FA                  84\n",
       "Name: count, dtype: int64"
      ]
     },
     "execution_count": 19,
     "metadata": {},
     "output_type": "execute_result"
    }
   ],
   "execution_count": 19
  },
  {
   "metadata": {
    "ExecuteTime": {
     "end_time": "2025-09-29T23:28:52.938939Z",
     "start_time": "2025-09-29T23:28:52.934549Z"
    }
   },
   "cell_type": "code",
   "source": [
    "# Drop rows with disposition other than 'CANDIDATE' or 'CONFIRMED'\n",
    "df = df[df['disposition'].isin(['CANDIDATE', 'CONFIRMED', 'PC', 'CP', 'KP'])]\n",
    "df.shape"
   ],
   "id": "9076d564793c9c48",
   "outputs": [
    {
     "data": {
      "text/plain": [
       "(10104, 7)"
      ]
     },
     "execution_count": 20,
     "metadata": {},
     "output_type": "execute_result"
    }
   ],
   "execution_count": 20
  },
  {
   "metadata": {
    "ExecuteTime": {
     "end_time": "2025-09-29T23:29:02.735340Z",
     "start_time": "2025-09-29T23:29:02.730536Z"
    }
   },
   "cell_type": "code",
   "source": "df['disposition'].value_counts()\n",
   "id": "ade70e6ab079c2be",
   "outputs": [
    {
     "data": {
      "text/plain": [
       "disposition\n",
       "PC           4266\n",
       "CONFIRMED    2744\n",
       "CANDIDATE    1875\n",
       "CP            670\n",
       "KP            549\n",
       "Name: count, dtype: int64"
      ]
     },
     "execution_count": 21,
     "metadata": {},
     "output_type": "execute_result"
    }
   ],
   "execution_count": 21
  },
  {
   "metadata": {
    "ExecuteTime": {
     "end_time": "2025-09-29T23:38:11.651651Z",
     "start_time": "2025-09-29T23:38:11.647121Z"
    }
   },
   "cell_type": "code",
   "source": [
    "# Change the values of the disposition column to 0 where it is CONFIRMED or CP or KP and 1 where it is CANDIDATE or PC\n",
    "df.loc[:,'disposition'] = df['disposition'].replace({'CONFIRMED': 0, 'CP': 0, 'KP': 0, 'CANDIDATE': 1, 'PC': 1})\n",
    "df['disposition'].value_counts()"
   ],
   "id": "9957f4a4d1dd1ba1",
   "outputs": [
    {
     "data": {
      "text/plain": [
       "disposition\n",
       "1    6141\n",
       "0    3963\n",
       "Name: count, dtype: int64"
      ]
     },
     "execution_count": 23,
     "metadata": {},
     "output_type": "execute_result"
    }
   ],
   "execution_count": 23
  },
  {
   "metadata": {},
   "cell_type": "code",
   "outputs": [],
   "execution_count": null,
   "source": "",
   "id": "7e68ddb2ad3c29d"
  }
 ],
 "metadata": {
  "kernelspec": {
   "display_name": "Python 3",
   "language": "python",
   "name": "python3"
  },
  "language_info": {
   "codemirror_mode": {
    "name": "ipython",
    "version": 2
   },
   "file_extension": ".py",
   "mimetype": "text/x-python",
   "name": "python",
   "nbconvert_exporter": "python",
   "pygments_lexer": "ipython2",
   "version": "2.7.6"
  }
 },
 "nbformat": 4,
 "nbformat_minor": 5
}
