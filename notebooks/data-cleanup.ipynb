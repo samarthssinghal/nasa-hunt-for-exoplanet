{
 "cells": [
  {
   "cell_type": "code",
   "id": "initial_id",
   "metadata": {
    "collapsed": true,
    "ExecuteTime": {
     "end_time": "2025-09-28T20:06:01.144734Z",
     "start_time": "2025-09-28T20:06:00.144100Z"
    }
   },
   "source": "import pandas as pd",
   "outputs": [],
   "execution_count": 1
  },
  {
   "metadata": {
    "ExecuteTime": {
     "end_time": "2025-09-28T21:36:48.105998Z",
     "start_time": "2025-09-28T21:36:47.904135Z"
    }
   },
   "cell_type": "code",
   "source": [
    "koi_df = pd.read_csv(\"../data/cumulative_2025.09.21_17.22.39.csv\", skiprows=144)\n",
    "toi_df = pd.read_csv(\"../data/TOI_2025.09.21_17.24.45.csv\", skiprows=90)\n",
    "k2_df = pd.read_csv(\"../data/k2pandc_2025.09.21_17.26.00.csv\", skiprows=298)"
   ],
   "id": "8371b6439adae020",
   "outputs": [],
   "execution_count": 12
  },
  {
   "metadata": {
    "ExecuteTime": {
     "end_time": "2025-09-28T21:36:48.590305Z",
     "start_time": "2025-09-28T21:36:48.585061Z"
    }
   },
   "cell_type": "code",
   "source": [
    "koi_df = koi_df[['koi_period', 'koi_time0bk', 'koi_duration', 'koi_depth', 'koi_prad', 'koi_insol', 'koi_teq', 'koi_steff', 'koi_slogg', 'koi_srad', 'koi_disposition']]\n",
    "koi_df = koi_df.rename(columns={\n",
    "    'koi_period': 'orbital_period',\n",
    "    'koi_time0bk': 'transit_epoch',\n",
    "    'koi_duration': 'transit_duration',\n",
    "    'koi_depth': 'transit_depth',\n",
    "    'koi_prad': 'planet_radius',\n",
    "    'koi_insol': 'insolation_flux',\n",
    "    'koi_teq': 'equilibrium_temp',\n",
    "    'koi_steff': 'effective_temp',\n",
    "    'koi_slogg': 'surface_gravity',\n",
    "    'koi_srad': 'stellar_radius',\n",
    "    'koi_disposition': 'disposition'\n",
    "})\n",
    "koi_df['dataset'] = 'KOI'\n",
    "koi_df.shape"
   ],
   "id": "dc2110367849a8b1",
   "outputs": [
    {
     "data": {
      "text/plain": [
       "(9564, 12)"
      ]
     },
     "execution_count": 13,
     "metadata": {},
     "output_type": "execute_result"
    }
   ],
   "execution_count": 13
  },
  {
   "metadata": {
    "ExecuteTime": {
     "end_time": "2025-09-28T21:36:59.928502Z",
     "start_time": "2025-09-28T21:36:59.923700Z"
    }
   },
   "cell_type": "code",
   "source": [
    "toi_df = toi_df[['pl_orbper', 'pl_tranmid', 'pl_trandurh', 'pl_trandep', 'pl_rade', 'pl_insol', 'pl_eqt','st_teff', 'st_logg', 'st_rad', 'tfopwg_disp']]\n",
    "toi_df = toi_df.rename(columns={\n",
    "    'pl_orbper': 'orbital_period',\n",
    "    'pl_tranmid': 'transit_epoch',\n",
    "    'pl_trandurh': 'transit_duration',\n",
    "    'pl_trandep': 'transit_depth',\n",
    "    'pl_rade': 'planet_radius',\n",
    "    'pl_insol': 'insolation_flux',\n",
    "    'pl_eqt': 'equilibrium_temp',\n",
    "    'st_teff': 'effective_temp',\n",
    "    'st_logg': 'surface_gravity',\n",
    "    'st_rad': 'stellar_radius',\n",
    "    'tfopwg_disp': 'disposition'\n",
    "})\n",
    "toi_df['dataset'] = 'TOI'\n",
    "toi_df.shape"
   ],
   "id": "940649c86b630cab",
   "outputs": [
    {
     "data": {
      "text/plain": [
       "(7668, 12)"
      ]
     },
     "execution_count": 14,
     "metadata": {},
     "output_type": "execute_result"
    }
   ],
   "execution_count": 14
  },
  {
   "metadata": {
    "ExecuteTime": {
     "end_time": "2025-09-28T21:38:17.287617Z",
     "start_time": "2025-09-28T21:38:17.281453Z"
    }
   },
   "cell_type": "code",
   "source": [
    "k2_df = k2_df[['pl_orbper', 'pl_tranmid', 'pl_trandur', 'pl_trandep', 'pl_rade', 'pl_insol', 'pl_eqt','st_teff', 'st_logg', 'st_rad', 'disposition']]\n",
    "k2_df = k2_df.rename(columns={\n",
    "    'pl_orbper': 'orbital_period',\n",
    "    'pl_tranmid': 'transit_epoch',\n",
    "    'pl_trandur': 'transit_duration',\n",
    "    'pl_trandep': 'transit_depth',\n",
    "    'pl_rade': 'planet_radius',\n",
    "    'pl_insol': 'insolation_flux',\n",
    "    'pl_eqt': 'equilibrium_temp',\n",
    "    'st_teff': 'effective_temp',\n",
    "    'st_logg': 'surface_gravity',\n",
    "    'st_rad': 'stellar_radius',\n",
    "    'disposition': 'disposition'\n",
    "})\n",
    "k2_df['dataset'] = 'K2'\n",
    "k2_df.shape"
   ],
   "id": "17a05a7949540a47",
   "outputs": [
    {
     "data": {
      "text/plain": [
       "(3992, 12)"
      ]
     },
     "execution_count": 15,
     "metadata": {},
     "output_type": "execute_result"
    }
   ],
   "execution_count": null
  },
  {
   "metadata": {
    "ExecuteTime": {
     "end_time": "2025-09-28T21:56:37.073288Z",
     "start_time": "2025-09-28T21:56:37.066420Z"
    }
   },
   "cell_type": "code",
   "source": [
    "df = pd.concat([koi_df, toi_df, k2_df], ignore_index=True)\n",
    "df = df.drop(columns=['insolation_flux', 'equilibrium_temp', 'surface_gravity', 'stellar_radius', 'effective_temp'])\n",
    "df"
   ],
   "id": "2a5518814c4f9244",
   "outputs": [
    {
     "data": {
      "text/plain": [
       "       orbital_period  transit_epoch  transit_duration  transit_depth  \\\n",
       "0            9.488036   1.705387e+02          2.957500     615.800000   \n",
       "1           54.418383   1.625138e+02          4.507000     874.800000   \n",
       "2           19.899140   1.758503e+02          1.782200   10829.000000   \n",
       "3            1.736952   1.703076e+02          2.406410    8079.200000   \n",
       "4            2.525592   1.715956e+02          1.654500     603.300000   \n",
       "...               ...            ...               ...            ...   \n",
       "21219        2.655676   2.456813e+06          2.617200       1.487700   \n",
       "21220        6.001180   2.458185e+06          1.321000            NaN   \n",
       "21221        6.001270   2.458191e+06          1.330000            NaN   \n",
       "21222             NaN   2.460778e+06          1.647926       0.074436   \n",
       "21223        6.001270   2.458191e+06               NaN            NaN   \n",
       "\n",
       "       planet_radius     disposition dataset  \n",
       "0            2.26000       CONFIRMED     KOI  \n",
       "1            2.83000       CONFIRMED     KOI  \n",
       "2           14.60000       CANDIDATE     KOI  \n",
       "3           33.46000  FALSE POSITIVE     KOI  \n",
       "4            2.75000       CONFIRMED     KOI  \n",
       "...              ...             ...     ...  \n",
       "21219       11.10000       CONFIRMED      K2  \n",
       "21220        2.03000       CONFIRMED      K2  \n",
       "21221        2.04300       CONFIRMED      K2  \n",
       "21222        1.75752       CONFIRMED      K2  \n",
       "21223        2.04300       CONFIRMED      K2  \n",
       "\n",
       "[21224 rows x 7 columns]"
      ],
      "text/html": [
       "<div>\n",
       "<style scoped>\n",
       "    .dataframe tbody tr th:only-of-type {\n",
       "        vertical-align: middle;\n",
       "    }\n",
       "\n",
       "    .dataframe tbody tr th {\n",
       "        vertical-align: top;\n",
       "    }\n",
       "\n",
       "    .dataframe thead th {\n",
       "        text-align: right;\n",
       "    }\n",
       "</style>\n",
       "<table border=\"1\" class=\"dataframe\">\n",
       "  <thead>\n",
       "    <tr style=\"text-align: right;\">\n",
       "      <th></th>\n",
       "      <th>orbital_period</th>\n",
       "      <th>transit_epoch</th>\n",
       "      <th>transit_duration</th>\n",
       "      <th>transit_depth</th>\n",
       "      <th>planet_radius</th>\n",
       "      <th>disposition</th>\n",
       "      <th>dataset</th>\n",
       "    </tr>\n",
       "  </thead>\n",
       "  <tbody>\n",
       "    <tr>\n",
       "      <th>0</th>\n",
       "      <td>9.488036</td>\n",
       "      <td>1.705387e+02</td>\n",
       "      <td>2.957500</td>\n",
       "      <td>615.800000</td>\n",
       "      <td>2.26000</td>\n",
       "      <td>CONFIRMED</td>\n",
       "      <td>KOI</td>\n",
       "    </tr>\n",
       "    <tr>\n",
       "      <th>1</th>\n",
       "      <td>54.418383</td>\n",
       "      <td>1.625138e+02</td>\n",
       "      <td>4.507000</td>\n",
       "      <td>874.800000</td>\n",
       "      <td>2.83000</td>\n",
       "      <td>CONFIRMED</td>\n",
       "      <td>KOI</td>\n",
       "    </tr>\n",
       "    <tr>\n",
       "      <th>2</th>\n",
       "      <td>19.899140</td>\n",
       "      <td>1.758503e+02</td>\n",
       "      <td>1.782200</td>\n",
       "      <td>10829.000000</td>\n",
       "      <td>14.60000</td>\n",
       "      <td>CANDIDATE</td>\n",
       "      <td>KOI</td>\n",
       "    </tr>\n",
       "    <tr>\n",
       "      <th>3</th>\n",
       "      <td>1.736952</td>\n",
       "      <td>1.703076e+02</td>\n",
       "      <td>2.406410</td>\n",
       "      <td>8079.200000</td>\n",
       "      <td>33.46000</td>\n",
       "      <td>FALSE POSITIVE</td>\n",
       "      <td>KOI</td>\n",
       "    </tr>\n",
       "    <tr>\n",
       "      <th>4</th>\n",
       "      <td>2.525592</td>\n",
       "      <td>1.715956e+02</td>\n",
       "      <td>1.654500</td>\n",
       "      <td>603.300000</td>\n",
       "      <td>2.75000</td>\n",
       "      <td>CONFIRMED</td>\n",
       "      <td>KOI</td>\n",
       "    </tr>\n",
       "    <tr>\n",
       "      <th>...</th>\n",
       "      <td>...</td>\n",
       "      <td>...</td>\n",
       "      <td>...</td>\n",
       "      <td>...</td>\n",
       "      <td>...</td>\n",
       "      <td>...</td>\n",
       "      <td>...</td>\n",
       "    </tr>\n",
       "    <tr>\n",
       "      <th>21219</th>\n",
       "      <td>2.655676</td>\n",
       "      <td>2.456813e+06</td>\n",
       "      <td>2.617200</td>\n",
       "      <td>1.487700</td>\n",
       "      <td>11.10000</td>\n",
       "      <td>CONFIRMED</td>\n",
       "      <td>K2</td>\n",
       "    </tr>\n",
       "    <tr>\n",
       "      <th>21220</th>\n",
       "      <td>6.001180</td>\n",
       "      <td>2.458185e+06</td>\n",
       "      <td>1.321000</td>\n",
       "      <td>NaN</td>\n",
       "      <td>2.03000</td>\n",
       "      <td>CONFIRMED</td>\n",
       "      <td>K2</td>\n",
       "    </tr>\n",
       "    <tr>\n",
       "      <th>21221</th>\n",
       "      <td>6.001270</td>\n",
       "      <td>2.458191e+06</td>\n",
       "      <td>1.330000</td>\n",
       "      <td>NaN</td>\n",
       "      <td>2.04300</td>\n",
       "      <td>CONFIRMED</td>\n",
       "      <td>K2</td>\n",
       "    </tr>\n",
       "    <tr>\n",
       "      <th>21222</th>\n",
       "      <td>NaN</td>\n",
       "      <td>2.460778e+06</td>\n",
       "      <td>1.647926</td>\n",
       "      <td>0.074436</td>\n",
       "      <td>1.75752</td>\n",
       "      <td>CONFIRMED</td>\n",
       "      <td>K2</td>\n",
       "    </tr>\n",
       "    <tr>\n",
       "      <th>21223</th>\n",
       "      <td>6.001270</td>\n",
       "      <td>2.458191e+06</td>\n",
       "      <td>NaN</td>\n",
       "      <td>NaN</td>\n",
       "      <td>2.04300</td>\n",
       "      <td>CONFIRMED</td>\n",
       "      <td>K2</td>\n",
       "    </tr>\n",
       "  </tbody>\n",
       "</table>\n",
       "<p>21224 rows × 7 columns</p>\n",
       "</div>"
      ]
     },
     "execution_count": 35,
     "metadata": {},
     "output_type": "execute_result"
    }
   ],
   "execution_count": 35
  },
  {
   "metadata": {
    "ExecuteTime": {
     "end_time": "2025-09-28T21:56:38.151064Z",
     "start_time": "2025-09-28T21:56:38.149193Z"
    }
   },
   "cell_type": "code",
   "source": "df.shape",
   "id": "ceff4dcfed415a14",
   "outputs": [
    {
     "data": {
      "text/plain": [
       "(21224, 7)"
      ]
     },
     "execution_count": 36,
     "metadata": {},
     "output_type": "execute_result"
    }
   ],
   "execution_count": 36
  },
  {
   "metadata": {
    "ExecuteTime": {
     "end_time": "2025-09-28T21:56:38.781996Z",
     "start_time": "2025-09-28T21:56:38.777667Z"
    }
   },
   "cell_type": "code",
   "source": [
    "df = df.dropna()\n",
    "df.shape"
   ],
   "id": "7ab82bbe4a51d3e0",
   "outputs": [
    {
     "data": {
      "text/plain": [
       "(17624, 7)"
      ]
     },
     "execution_count": 37,
     "metadata": {},
     "output_type": "execute_result"
    }
   ],
   "execution_count": 37
  },
  {
   "metadata": {
    "ExecuteTime": {
     "end_time": "2025-09-28T21:57:21.737773Z",
     "start_time": "2025-09-28T21:57:21.731531Z"
    }
   },
   "cell_type": "code",
   "source": "df",
   "id": "7e1637bd2eff5d83",
   "outputs": [
    {
     "data": {
      "text/plain": [
       "       orbital_period  transit_epoch  transit_duration  transit_depth  \\\n",
       "0            9.488036   1.705387e+02           2.95750       615.8000   \n",
       "1           54.418383   1.625138e+02           4.50700       874.8000   \n",
       "2           19.899140   1.758503e+02           1.78220     10829.0000   \n",
       "3            1.736952   1.703076e+02           2.40641      8079.2000   \n",
       "4            2.525592   1.715956e+02           1.65450       603.3000   \n",
       "...               ...            ...               ...            ...   \n",
       "21208        2.484194   2.456980e+06           1.98000         0.9200   \n",
       "21209        2.484198   2.460229e+06           1.51100         1.0361   \n",
       "21213        2.655678   2.456847e+06           2.59584         1.8700   \n",
       "21215        2.655685   2.456810e+06           2.60000         1.4900   \n",
       "21219        2.655676   2.456813e+06           2.61720         1.4877   \n",
       "\n",
       "       planet_radius     disposition dataset  \n",
       "0            2.26000       CONFIRMED     KOI  \n",
       "1            2.83000       CONFIRMED     KOI  \n",
       "2           14.60000       CANDIDATE     KOI  \n",
       "3           33.46000  FALSE POSITIVE     KOI  \n",
       "4            2.75000       CONFIRMED     KOI  \n",
       "...              ...             ...     ...  \n",
       "21208       11.80000       CONFIRMED      K2  \n",
       "21209       13.34130       CONFIRMED      K2  \n",
       "21213       13.89916       CONFIRMED      K2  \n",
       "21215       10.60000       CONFIRMED      K2  \n",
       "21219       11.10000       CONFIRMED      K2  \n",
       "\n",
       "[17624 rows x 7 columns]"
      ],
      "text/html": [
       "<div>\n",
       "<style scoped>\n",
       "    .dataframe tbody tr th:only-of-type {\n",
       "        vertical-align: middle;\n",
       "    }\n",
       "\n",
       "    .dataframe tbody tr th {\n",
       "        vertical-align: top;\n",
       "    }\n",
       "\n",
       "    .dataframe thead th {\n",
       "        text-align: right;\n",
       "    }\n",
       "</style>\n",
       "<table border=\"1\" class=\"dataframe\">\n",
       "  <thead>\n",
       "    <tr style=\"text-align: right;\">\n",
       "      <th></th>\n",
       "      <th>orbital_period</th>\n",
       "      <th>transit_epoch</th>\n",
       "      <th>transit_duration</th>\n",
       "      <th>transit_depth</th>\n",
       "      <th>planet_radius</th>\n",
       "      <th>disposition</th>\n",
       "      <th>dataset</th>\n",
       "    </tr>\n",
       "  </thead>\n",
       "  <tbody>\n",
       "    <tr>\n",
       "      <th>0</th>\n",
       "      <td>9.488036</td>\n",
       "      <td>1.705387e+02</td>\n",
       "      <td>2.95750</td>\n",
       "      <td>615.8000</td>\n",
       "      <td>2.26000</td>\n",
       "      <td>CONFIRMED</td>\n",
       "      <td>KOI</td>\n",
       "    </tr>\n",
       "    <tr>\n",
       "      <th>1</th>\n",
       "      <td>54.418383</td>\n",
       "      <td>1.625138e+02</td>\n",
       "      <td>4.50700</td>\n",
       "      <td>874.8000</td>\n",
       "      <td>2.83000</td>\n",
       "      <td>CONFIRMED</td>\n",
       "      <td>KOI</td>\n",
       "    </tr>\n",
       "    <tr>\n",
       "      <th>2</th>\n",
       "      <td>19.899140</td>\n",
       "      <td>1.758503e+02</td>\n",
       "      <td>1.78220</td>\n",
       "      <td>10829.0000</td>\n",
       "      <td>14.60000</td>\n",
       "      <td>CANDIDATE</td>\n",
       "      <td>KOI</td>\n",
       "    </tr>\n",
       "    <tr>\n",
       "      <th>3</th>\n",
       "      <td>1.736952</td>\n",
       "      <td>1.703076e+02</td>\n",
       "      <td>2.40641</td>\n",
       "      <td>8079.2000</td>\n",
       "      <td>33.46000</td>\n",
       "      <td>FALSE POSITIVE</td>\n",
       "      <td>KOI</td>\n",
       "    </tr>\n",
       "    <tr>\n",
       "      <th>4</th>\n",
       "      <td>2.525592</td>\n",
       "      <td>1.715956e+02</td>\n",
       "      <td>1.65450</td>\n",
       "      <td>603.3000</td>\n",
       "      <td>2.75000</td>\n",
       "      <td>CONFIRMED</td>\n",
       "      <td>KOI</td>\n",
       "    </tr>\n",
       "    <tr>\n",
       "      <th>...</th>\n",
       "      <td>...</td>\n",
       "      <td>...</td>\n",
       "      <td>...</td>\n",
       "      <td>...</td>\n",
       "      <td>...</td>\n",
       "      <td>...</td>\n",
       "      <td>...</td>\n",
       "    </tr>\n",
       "    <tr>\n",
       "      <th>21208</th>\n",
       "      <td>2.484194</td>\n",
       "      <td>2.456980e+06</td>\n",
       "      <td>1.98000</td>\n",
       "      <td>0.9200</td>\n",
       "      <td>11.80000</td>\n",
       "      <td>CONFIRMED</td>\n",
       "      <td>K2</td>\n",
       "    </tr>\n",
       "    <tr>\n",
       "      <th>21209</th>\n",
       "      <td>2.484198</td>\n",
       "      <td>2.460229e+06</td>\n",
       "      <td>1.51100</td>\n",
       "      <td>1.0361</td>\n",
       "      <td>13.34130</td>\n",
       "      <td>CONFIRMED</td>\n",
       "      <td>K2</td>\n",
       "    </tr>\n",
       "    <tr>\n",
       "      <th>21213</th>\n",
       "      <td>2.655678</td>\n",
       "      <td>2.456847e+06</td>\n",
       "      <td>2.59584</td>\n",
       "      <td>1.8700</td>\n",
       "      <td>13.89916</td>\n",
       "      <td>CONFIRMED</td>\n",
       "      <td>K2</td>\n",
       "    </tr>\n",
       "    <tr>\n",
       "      <th>21215</th>\n",
       "      <td>2.655685</td>\n",
       "      <td>2.456810e+06</td>\n",
       "      <td>2.60000</td>\n",
       "      <td>1.4900</td>\n",
       "      <td>10.60000</td>\n",
       "      <td>CONFIRMED</td>\n",
       "      <td>K2</td>\n",
       "    </tr>\n",
       "    <tr>\n",
       "      <th>21219</th>\n",
       "      <td>2.655676</td>\n",
       "      <td>2.456813e+06</td>\n",
       "      <td>2.61720</td>\n",
       "      <td>1.4877</td>\n",
       "      <td>11.10000</td>\n",
       "      <td>CONFIRMED</td>\n",
       "      <td>K2</td>\n",
       "    </tr>\n",
       "  </tbody>\n",
       "</table>\n",
       "<p>17624 rows × 7 columns</p>\n",
       "</div>"
      ]
     },
     "execution_count": 38,
     "metadata": {},
     "output_type": "execute_result"
    }
   ],
   "execution_count": 38
  },
  {
   "metadata": {},
   "cell_type": "code",
   "outputs": [],
   "execution_count": null,
   "source": "",
   "id": "ff8e2d49195bda8a"
  }
 ],
 "metadata": {
  "kernelspec": {
   "display_name": "Python 3",
   "language": "python",
   "name": "python3"
  },
  "language_info": {
   "codemirror_mode": {
    "name": "ipython",
    "version": 2
   },
   "file_extension": ".py",
   "mimetype": "text/x-python",
   "name": "python",
   "nbconvert_exporter": "python",
   "pygments_lexer": "ipython2",
   "version": "2.7.6"
  }
 },
 "nbformat": 4,
 "nbformat_minor": 5
}
