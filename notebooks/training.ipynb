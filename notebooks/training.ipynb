{
 "cells": [
  {
   "cell_type": "code",
   "id": "initial_id",
   "metadata": {
    "collapsed": true,
    "ExecuteTime": {
     "end_time": "2025-09-30T16:19:29.212715Z",
     "start_time": "2025-09-30T16:19:28.650492Z"
    }
   },
   "source": "import pandas as pd",
   "outputs": [],
   "execution_count": 2
  },
  {
   "metadata": {
    "ExecuteTime": {
     "end_time": "2025-09-30T16:19:29.777079Z",
     "start_time": "2025-09-30T16:19:29.758820Z"
    }
   },
   "cell_type": "code",
   "source": [
    "df = pd.read_csv(\"../data/exoplanet_data_cleaned.csv\")\n",
    "df"
   ],
   "id": "f9bfe0dfd493a10",
   "outputs": [
    {
     "data": {
      "text/plain": [
       "       orbital_period  transit_epoch  transit_duration  transit_depth  \\\n",
       "0            9.488036   1.705387e+02          2.957500     615.800000   \n",
       "1           54.418383   1.625138e+02          4.507000     874.800000   \n",
       "2           19.899140   1.758503e+02          1.782200   10829.000000   \n",
       "3            2.525592   1.715956e+02          1.654500     603.300000   \n",
       "4           11.094321   1.712012e+02          4.594500    1517.500000   \n",
       "...               ...            ...               ...            ...   \n",
       "10099        4.985781   2.459229e+06          3.671241     690.342915   \n",
       "10100       13.166014   2.459977e+06          4.668000    5697.000000   \n",
       "10101        4.587386   2.459981e+06          4.360000    3321.000000   \n",
       "10102        2.484323   2.459987e+06          1.999000    1476.000000   \n",
       "10103        1.463502   2.459986e+06          1.518000     914.000000   \n",
       "\n",
       "       planet_radius  disposition dataset  \n",
       "0            2.26000            0     KOI  \n",
       "1            2.83000            0     KOI  \n",
       "2           14.60000            1     KOI  \n",
       "3            2.75000            0     KOI  \n",
       "4            3.90000            0     KOI  \n",
       "...              ...          ...     ...  \n",
       "10099        2.79204            1     TOI  \n",
       "10100       11.39130            1     TOI  \n",
       "10101       10.63370            1     TOI  \n",
       "10102       12.91910            1     TOI  \n",
       "10103        4.75869            1     TOI  \n",
       "\n",
       "[10104 rows x 7 columns]"
      ],
      "text/html": [
       "<div>\n",
       "<style scoped>\n",
       "    .dataframe tbody tr th:only-of-type {\n",
       "        vertical-align: middle;\n",
       "    }\n",
       "\n",
       "    .dataframe tbody tr th {\n",
       "        vertical-align: top;\n",
       "    }\n",
       "\n",
       "    .dataframe thead th {\n",
       "        text-align: right;\n",
       "    }\n",
       "</style>\n",
       "<table border=\"1\" class=\"dataframe\">\n",
       "  <thead>\n",
       "    <tr style=\"text-align: right;\">\n",
       "      <th></th>\n",
       "      <th>orbital_period</th>\n",
       "      <th>transit_epoch</th>\n",
       "      <th>transit_duration</th>\n",
       "      <th>transit_depth</th>\n",
       "      <th>planet_radius</th>\n",
       "      <th>disposition</th>\n",
       "      <th>dataset</th>\n",
       "    </tr>\n",
       "  </thead>\n",
       "  <tbody>\n",
       "    <tr>\n",
       "      <th>0</th>\n",
       "      <td>9.488036</td>\n",
       "      <td>1.705387e+02</td>\n",
       "      <td>2.957500</td>\n",
       "      <td>615.800000</td>\n",
       "      <td>2.26000</td>\n",
       "      <td>0</td>\n",
       "      <td>KOI</td>\n",
       "    </tr>\n",
       "    <tr>\n",
       "      <th>1</th>\n",
       "      <td>54.418383</td>\n",
       "      <td>1.625138e+02</td>\n",
       "      <td>4.507000</td>\n",
       "      <td>874.800000</td>\n",
       "      <td>2.83000</td>\n",
       "      <td>0</td>\n",
       "      <td>KOI</td>\n",
       "    </tr>\n",
       "    <tr>\n",
       "      <th>2</th>\n",
       "      <td>19.899140</td>\n",
       "      <td>1.758503e+02</td>\n",
       "      <td>1.782200</td>\n",
       "      <td>10829.000000</td>\n",
       "      <td>14.60000</td>\n",
       "      <td>1</td>\n",
       "      <td>KOI</td>\n",
       "    </tr>\n",
       "    <tr>\n",
       "      <th>3</th>\n",
       "      <td>2.525592</td>\n",
       "      <td>1.715956e+02</td>\n",
       "      <td>1.654500</td>\n",
       "      <td>603.300000</td>\n",
       "      <td>2.75000</td>\n",
       "      <td>0</td>\n",
       "      <td>KOI</td>\n",
       "    </tr>\n",
       "    <tr>\n",
       "      <th>4</th>\n",
       "      <td>11.094321</td>\n",
       "      <td>1.712012e+02</td>\n",
       "      <td>4.594500</td>\n",
       "      <td>1517.500000</td>\n",
       "      <td>3.90000</td>\n",
       "      <td>0</td>\n",
       "      <td>KOI</td>\n",
       "    </tr>\n",
       "    <tr>\n",
       "      <th>...</th>\n",
       "      <td>...</td>\n",
       "      <td>...</td>\n",
       "      <td>...</td>\n",
       "      <td>...</td>\n",
       "      <td>...</td>\n",
       "      <td>...</td>\n",
       "      <td>...</td>\n",
       "    </tr>\n",
       "    <tr>\n",
       "      <th>10099</th>\n",
       "      <td>4.985781</td>\n",
       "      <td>2.459229e+06</td>\n",
       "      <td>3.671241</td>\n",
       "      <td>690.342915</td>\n",
       "      <td>2.79204</td>\n",
       "      <td>1</td>\n",
       "      <td>TOI</td>\n",
       "    </tr>\n",
       "    <tr>\n",
       "      <th>10100</th>\n",
       "      <td>13.166014</td>\n",
       "      <td>2.459977e+06</td>\n",
       "      <td>4.668000</td>\n",
       "      <td>5697.000000</td>\n",
       "      <td>11.39130</td>\n",
       "      <td>1</td>\n",
       "      <td>TOI</td>\n",
       "    </tr>\n",
       "    <tr>\n",
       "      <th>10101</th>\n",
       "      <td>4.587386</td>\n",
       "      <td>2.459981e+06</td>\n",
       "      <td>4.360000</td>\n",
       "      <td>3321.000000</td>\n",
       "      <td>10.63370</td>\n",
       "      <td>1</td>\n",
       "      <td>TOI</td>\n",
       "    </tr>\n",
       "    <tr>\n",
       "      <th>10102</th>\n",
       "      <td>2.484323</td>\n",
       "      <td>2.459987e+06</td>\n",
       "      <td>1.999000</td>\n",
       "      <td>1476.000000</td>\n",
       "      <td>12.91910</td>\n",
       "      <td>1</td>\n",
       "      <td>TOI</td>\n",
       "    </tr>\n",
       "    <tr>\n",
       "      <th>10103</th>\n",
       "      <td>1.463502</td>\n",
       "      <td>2.459986e+06</td>\n",
       "      <td>1.518000</td>\n",
       "      <td>914.000000</td>\n",
       "      <td>4.75869</td>\n",
       "      <td>1</td>\n",
       "      <td>TOI</td>\n",
       "    </tr>\n",
       "  </tbody>\n",
       "</table>\n",
       "<p>10104 rows × 7 columns</p>\n",
       "</div>"
      ]
     },
     "execution_count": 3,
     "metadata": {},
     "output_type": "execute_result"
    }
   ],
   "execution_count": 3
  },
  {
   "metadata": {
    "ExecuteTime": {
     "end_time": "2025-09-30T16:19:30.645017Z",
     "start_time": "2025-09-30T16:19:30.642527Z"
    }
   },
   "cell_type": "code",
   "source": "df.columns",
   "id": "28cccaf8061280ab",
   "outputs": [
    {
     "data": {
      "text/plain": [
       "Index(['orbital_period', 'transit_epoch', 'transit_duration', 'transit_depth',\n",
       "       'planet_radius', 'disposition', 'dataset'],\n",
       "      dtype='object')"
      ]
     },
     "execution_count": 4,
     "metadata": {},
     "output_type": "execute_result"
    }
   ],
   "execution_count": 4
  },
  {
   "metadata": {
    "ExecuteTime": {
     "end_time": "2025-09-29T23:49:17.280107Z",
     "start_time": "2025-09-29T23:49:08.439046Z"
    }
   },
   "cell_type": "code",
   "source": [
    "# Run logistic regression to predict disposition using the other columns as features\n",
    "from sklearn.model_selection import train_test_split\n",
    "from sklearn.linear_model import LogisticRegression\n",
    "from sklearn.metrics import classification_report, confusion_matrix\n",
    "X = df.drop(columns=['disposition', 'dataset'])\n",
    "y = df['disposition']\n",
    "X_train, X_test, y_train, y_test = train_test_split(X, y, test_size=0.2, random_state=42)\n",
    "model = LogisticRegression(max_iter=1000)\n",
    "model.fit(X_train, y_train)\n",
    "y_pred = model.predict(X_test)\n",
    "print(classification_report(y_test, y_pred))\n",
    "print(confusion_matrix(y_test, y_pred))"
   ],
   "id": "357899b1115ec25a",
   "outputs": [
    {
     "name": "stdout",
     "output_type": "stream",
     "text": [
      "              precision    recall  f1-score   support\n",
      "\n",
      "           0       0.66      0.66      0.66       798\n",
      "           1       0.78      0.78      0.78      1223\n",
      "\n",
      "    accuracy                           0.73      2021\n",
      "   macro avg       0.72      0.72      0.72      2021\n",
      "weighted avg       0.73      0.73      0.73      2021\n",
      "\n",
      "[[528 270]\n",
      " [268 955]]\n"
     ]
    }
   ],
   "execution_count": 4
  },
  {
   "metadata": {},
   "cell_type": "code",
   "outputs": [],
   "execution_count": null,
   "source": "",
   "id": "f7fa6cc4b659b25a"
  }
 ],
 "metadata": {
  "kernelspec": {
   "display_name": "Python 3",
   "language": "python",
   "name": "python3"
  },
  "language_info": {
   "codemirror_mode": {
    "name": "ipython",
    "version": 2
   },
   "file_extension": ".py",
   "mimetype": "text/x-python",
   "name": "python",
   "nbconvert_exporter": "python",
   "pygments_lexer": "ipython2",
   "version": "2.7.6"
  }
 },
 "nbformat": 4,
 "nbformat_minor": 5
}
