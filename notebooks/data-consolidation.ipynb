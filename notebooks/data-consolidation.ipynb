{
 "cells": [
  {
   "cell_type": "code",
   "id": "initial_id",
   "metadata": {
    "collapsed": true,
    "ExecuteTime": {
     "end_time": "2025-10-04T19:07:20.206037Z",
     "start_time": "2025-10-04T19:07:20.202809Z"
    }
   },
   "source": [
    "import pandas as pd\n",
    "import numpy as np\n",
    "import warnings\n",
    "warnings.filterwarnings('ignore')\n",
    "\n",
    "koi_file = '../data/cumulative_2025.09.21_17.22.39.csv'\n",
    "toi_file = '../data/TOI_2025.09.21_17.24.45.csv'\n",
    "k2_file  = '../data/k2pandc_2025.09.21_17.26.00.csv'"
   ],
   "outputs": [],
   "execution_count": 41
  },
  {
   "metadata": {
    "ExecuteTime": {
     "end_time": "2025-10-04T19:07:21.838139Z",
     "start_time": "2025-10-04T19:07:21.643140Z"
    }
   },
   "cell_type": "code",
   "source": [
    "df_koi = pd.read_csv(koi_file)\n",
    "df_toi = pd.read_csv(toi_file)\n",
    "df_k2  = pd.read_csv(k2_file)\n"
   ],
   "id": "93a40760201b5b2b",
   "outputs": [],
   "execution_count": 42
  },
  {
   "metadata": {
    "ExecuteTime": {
     "end_time": "2025-10-04T19:07:22.508189Z",
     "start_time": "2025-10-04T19:07:22.389229Z"
    }
   },
   "cell_type": "code",
   "source": [
    "schema_map = {\n",
    "    'orbital_period': {'koi':'koi_period','toi':'pl_orbper','k2':'pl_orbper'},\n",
    "    'transit_duration': {'koi':'koi_duration','toi':'pl_trandurh','k2':'pl_trandur'},\n",
    "    'transit_depth': {'koi':'koi_depth','toi':'pl_trandep','k2':'pl_trandep'},\n",
    "    'planet_radius': {'koi':'koi_prad','toi':'pl_rade','k2':'pl_rade'},\n",
    "    'radius_ratio': {'koi':'koi_ror','toi':None,'k2':'pl_ratror'},\n",
    "    'stellar_teff': {'koi':'koi_steff','toi':'st_teff','k2':'st_teff'},\n",
    "    'stellar_radius': {'koi':'koi_srad','toi':'st_rad','k2':'st_rad'},\n",
    "    'stellar_mass': {'koi':'koi_smass','toi':None,'k2':'st_mass'},\n",
    "    'insolation_flux': {'koi':'koi_insol','toi':'pl_insol','k2':'pl_insol'},\n",
    "    'teq': {'koi':'koi_teq','toi':'pl_eqt','k2':'pl_eqt'},\n",
    "    'label': {'koi':'koi_disposition','toi':'tfopwg_disp','k2':'disposition'}\n",
    "}\n",
    "\n",
    "def standardize(df, mission):\n",
    "    out = {}\n",
    "    for std_col, mapping in schema_map.items():\n",
    "        src = mapping.get(mission)\n",
    "        if src and src in df.columns:\n",
    "            out[std_col] = df[src]\n",
    "        else:\n",
    "            out[std_col] = pd.Series([None]*len(df))\n",
    "    res = pd.DataFrame(out)\n",
    "    res['mission'] = mission\n",
    "    return res\n",
    "\n",
    "std_koi = standardize(df_koi, 'koi')\n",
    "std_toi = standardize(df_toi, 'toi')\n",
    "std_k2  = standardize(df_k2, 'k2')\n",
    "unified = pd.concat([std_koi, std_toi, std_k2], ignore_index=True)\n",
    "unified['mission'] = unified['mission'].map({'koi':'Kepler','toi':'TESS','k2':'K2'})\n",
    "print('Unified shape:', unified.shape)\n",
    "# save snapshot\n",
    "unified.to_csv('../data/unified_exoplanets_raw_rebuilt_from_notebook.csv', index=False)\n",
    "unified.head(10)\n"
   ],
   "id": "898b02d5c0a971b",
   "outputs": [
    {
     "name": "stdout",
     "output_type": "stream",
     "text": [
      "Unified shape: (21224, 12)\n"
     ]
    },
    {
     "data": {
      "text/plain": [
       "   orbital_period  transit_duration  transit_depth  planet_radius  \\\n",
       "0        9.488036           2.95750          615.8           2.26   \n",
       "1       54.418383           4.50700          874.8           2.83   \n",
       "2       19.899140           1.78220        10829.0          14.60   \n",
       "3        1.736952           2.40641         8079.2          33.46   \n",
       "4        2.525592           1.65450          603.3           2.75   \n",
       "5       11.094321           4.59450         1517.5           3.90   \n",
       "6        4.134435           3.14020          686.0           2.77   \n",
       "7        2.566589           2.42900          226.5           1.59   \n",
       "8        7.361790           5.02200          233.7          39.21   \n",
       "9       16.068647           3.53470         4914.3           5.76   \n",
       "\n",
       "   radius_ratio  stellar_teff  stellar_radius  stellar_mass  insolation_flux  \\\n",
       "0      0.022344        5455.0           0.927         0.919            93.59   \n",
       "1      0.027954        5455.0           0.927         0.919             9.11   \n",
       "2      0.154046        5853.0           0.868         0.961            39.30   \n",
       "3      0.387394        5805.0           0.791         0.836           891.96   \n",
       "4      0.024064        6031.0           1.046         1.095           926.16   \n",
       "5      0.036779        6046.0           0.972         1.053           114.81   \n",
       "6      0.026133        6046.0           0.972         1.053           427.65   \n",
       "7      0.014983        6046.0           0.972         1.053           807.74   \n",
       "8      0.183387        6227.0           1.958         1.358           767.22   \n",
       "9      0.062161        5031.0           0.848         0.801            30.75   \n",
       "\n",
       "      teq           label mission  \n",
       "0   793.0       CONFIRMED  Kepler  \n",
       "1   443.0       CONFIRMED  Kepler  \n",
       "2   638.0       CANDIDATE  Kepler  \n",
       "3  1395.0  FALSE POSITIVE  Kepler  \n",
       "4  1406.0       CONFIRMED  Kepler  \n",
       "5   835.0       CONFIRMED  Kepler  \n",
       "6  1160.0       CONFIRMED  Kepler  \n",
       "7  1360.0       CONFIRMED  Kepler  \n",
       "8  1342.0  FALSE POSITIVE  Kepler  \n",
       "9   600.0       CONFIRMED  Kepler  "
      ],
      "text/html": [
       "<div>\n",
       "<style scoped>\n",
       "    .dataframe tbody tr th:only-of-type {\n",
       "        vertical-align: middle;\n",
       "    }\n",
       "\n",
       "    .dataframe tbody tr th {\n",
       "        vertical-align: top;\n",
       "    }\n",
       "\n",
       "    .dataframe thead th {\n",
       "        text-align: right;\n",
       "    }\n",
       "</style>\n",
       "<table border=\"1\" class=\"dataframe\">\n",
       "  <thead>\n",
       "    <tr style=\"text-align: right;\">\n",
       "      <th></th>\n",
       "      <th>orbital_period</th>\n",
       "      <th>transit_duration</th>\n",
       "      <th>transit_depth</th>\n",
       "      <th>planet_radius</th>\n",
       "      <th>radius_ratio</th>\n",
       "      <th>stellar_teff</th>\n",
       "      <th>stellar_radius</th>\n",
       "      <th>stellar_mass</th>\n",
       "      <th>insolation_flux</th>\n",
       "      <th>teq</th>\n",
       "      <th>label</th>\n",
       "      <th>mission</th>\n",
       "    </tr>\n",
       "  </thead>\n",
       "  <tbody>\n",
       "    <tr>\n",
       "      <th>0</th>\n",
       "      <td>9.488036</td>\n",
       "      <td>2.95750</td>\n",
       "      <td>615.8</td>\n",
       "      <td>2.26</td>\n",
       "      <td>0.022344</td>\n",
       "      <td>5455.0</td>\n",
       "      <td>0.927</td>\n",
       "      <td>0.919</td>\n",
       "      <td>93.59</td>\n",
       "      <td>793.0</td>\n",
       "      <td>CONFIRMED</td>\n",
       "      <td>Kepler</td>\n",
       "    </tr>\n",
       "    <tr>\n",
       "      <th>1</th>\n",
       "      <td>54.418383</td>\n",
       "      <td>4.50700</td>\n",
       "      <td>874.8</td>\n",
       "      <td>2.83</td>\n",
       "      <td>0.027954</td>\n",
       "      <td>5455.0</td>\n",
       "      <td>0.927</td>\n",
       "      <td>0.919</td>\n",
       "      <td>9.11</td>\n",
       "      <td>443.0</td>\n",
       "      <td>CONFIRMED</td>\n",
       "      <td>Kepler</td>\n",
       "    </tr>\n",
       "    <tr>\n",
       "      <th>2</th>\n",
       "      <td>19.899140</td>\n",
       "      <td>1.78220</td>\n",
       "      <td>10829.0</td>\n",
       "      <td>14.60</td>\n",
       "      <td>0.154046</td>\n",
       "      <td>5853.0</td>\n",
       "      <td>0.868</td>\n",
       "      <td>0.961</td>\n",
       "      <td>39.30</td>\n",
       "      <td>638.0</td>\n",
       "      <td>CANDIDATE</td>\n",
       "      <td>Kepler</td>\n",
       "    </tr>\n",
       "    <tr>\n",
       "      <th>3</th>\n",
       "      <td>1.736952</td>\n",
       "      <td>2.40641</td>\n",
       "      <td>8079.2</td>\n",
       "      <td>33.46</td>\n",
       "      <td>0.387394</td>\n",
       "      <td>5805.0</td>\n",
       "      <td>0.791</td>\n",
       "      <td>0.836</td>\n",
       "      <td>891.96</td>\n",
       "      <td>1395.0</td>\n",
       "      <td>FALSE POSITIVE</td>\n",
       "      <td>Kepler</td>\n",
       "    </tr>\n",
       "    <tr>\n",
       "      <th>4</th>\n",
       "      <td>2.525592</td>\n",
       "      <td>1.65450</td>\n",
       "      <td>603.3</td>\n",
       "      <td>2.75</td>\n",
       "      <td>0.024064</td>\n",
       "      <td>6031.0</td>\n",
       "      <td>1.046</td>\n",
       "      <td>1.095</td>\n",
       "      <td>926.16</td>\n",
       "      <td>1406.0</td>\n",
       "      <td>CONFIRMED</td>\n",
       "      <td>Kepler</td>\n",
       "    </tr>\n",
       "    <tr>\n",
       "      <th>5</th>\n",
       "      <td>11.094321</td>\n",
       "      <td>4.59450</td>\n",
       "      <td>1517.5</td>\n",
       "      <td>3.90</td>\n",
       "      <td>0.036779</td>\n",
       "      <td>6046.0</td>\n",
       "      <td>0.972</td>\n",
       "      <td>1.053</td>\n",
       "      <td>114.81</td>\n",
       "      <td>835.0</td>\n",
       "      <td>CONFIRMED</td>\n",
       "      <td>Kepler</td>\n",
       "    </tr>\n",
       "    <tr>\n",
       "      <th>6</th>\n",
       "      <td>4.134435</td>\n",
       "      <td>3.14020</td>\n",
       "      <td>686.0</td>\n",
       "      <td>2.77</td>\n",
       "      <td>0.026133</td>\n",
       "      <td>6046.0</td>\n",
       "      <td>0.972</td>\n",
       "      <td>1.053</td>\n",
       "      <td>427.65</td>\n",
       "      <td>1160.0</td>\n",
       "      <td>CONFIRMED</td>\n",
       "      <td>Kepler</td>\n",
       "    </tr>\n",
       "    <tr>\n",
       "      <th>7</th>\n",
       "      <td>2.566589</td>\n",
       "      <td>2.42900</td>\n",
       "      <td>226.5</td>\n",
       "      <td>1.59</td>\n",
       "      <td>0.014983</td>\n",
       "      <td>6046.0</td>\n",
       "      <td>0.972</td>\n",
       "      <td>1.053</td>\n",
       "      <td>807.74</td>\n",
       "      <td>1360.0</td>\n",
       "      <td>CONFIRMED</td>\n",
       "      <td>Kepler</td>\n",
       "    </tr>\n",
       "    <tr>\n",
       "      <th>8</th>\n",
       "      <td>7.361790</td>\n",
       "      <td>5.02200</td>\n",
       "      <td>233.7</td>\n",
       "      <td>39.21</td>\n",
       "      <td>0.183387</td>\n",
       "      <td>6227.0</td>\n",
       "      <td>1.958</td>\n",
       "      <td>1.358</td>\n",
       "      <td>767.22</td>\n",
       "      <td>1342.0</td>\n",
       "      <td>FALSE POSITIVE</td>\n",
       "      <td>Kepler</td>\n",
       "    </tr>\n",
       "    <tr>\n",
       "      <th>9</th>\n",
       "      <td>16.068647</td>\n",
       "      <td>3.53470</td>\n",
       "      <td>4914.3</td>\n",
       "      <td>5.76</td>\n",
       "      <td>0.062161</td>\n",
       "      <td>5031.0</td>\n",
       "      <td>0.848</td>\n",
       "      <td>0.801</td>\n",
       "      <td>30.75</td>\n",
       "      <td>600.0</td>\n",
       "      <td>CONFIRMED</td>\n",
       "      <td>Kepler</td>\n",
       "    </tr>\n",
       "  </tbody>\n",
       "</table>\n",
       "</div>"
      ]
     },
     "execution_count": 43,
     "metadata": {},
     "output_type": "execute_result"
    }
   ],
   "execution_count": 43
  },
  {
   "metadata": {
    "ExecuteTime": {
     "end_time": "2025-10-04T19:07:23.007175Z",
     "start_time": "2025-10-04T19:07:23.003420Z"
    }
   },
   "cell_type": "code",
   "source": "unified['label'].value_counts()",
   "id": "c192c3ab89492356",
   "outputs": [
    {
     "data": {
      "text/plain": [
       "label\n",
       "FALSE POSITIVE    5132\n",
       "CONFIRMED         5054\n",
       "PC                4675\n",
       "CANDIDATE         3348\n",
       "FP                1192\n",
       "CP                 679\n",
       "KP                 565\n",
       "APC                459\n",
       "FA                  98\n",
       "REFUTED             22\n",
       "Name: count, dtype: int64"
      ]
     },
     "execution_count": 44,
     "metadata": {},
     "output_type": "execute_result"
    }
   ],
   "execution_count": 44
  },
  {
   "metadata": {
    "ExecuteTime": {
     "end_time": "2025-10-04T19:07:23.669010Z",
     "start_time": "2025-10-04T19:07:23.666819Z"
    }
   },
   "cell_type": "code",
   "source": [
    "# based on the documentation, the following mappings are applied\n",
    "#False Positive\n",
    "#-----------------------\n",
    "#FALSE POSITIVE\n",
    "    #FP\n",
    "    #APC\n",
    "    #FA\n",
    "#----------------------\n",
    "#   CONFIRMED\n",
    "    #CP\n",
    "    #KP\n",
    "#----------------------\n",
    "#   CANDIDATE\n",
    "#   PC\n"
   ],
   "id": "de7fa0098ce7b04",
   "outputs": [],
   "execution_count": 45
  },
  {
   "metadata": {
    "ExecuteTime": {
     "end_time": "2025-10-04T19:07:24.238837Z",
     "start_time": "2025-10-04T19:07:24.223669Z"
    }
   },
   "cell_type": "code",
   "source": [
    "def normalize_label(x):\n",
    "    if pd.isna(x): return None\n",
    "    txt = str(x).strip().upper()\n",
    "    if txt in ('CONFIRMED','CP','KP'): return 'Confirmed'\n",
    "    if txt in ('CANDIDATE','PC'): return 'Candidate'\n",
    "    if txt in ('FALSE POSITIVE', 'FP', 'APC', 'FA', 'REFUTED'): return 'False Positive'\n",
    "    return txt.title()\n",
    "\n",
    "unified['label'] = unified['label'].apply(normalize_label)"
   ],
   "id": "54abc81b8bfc905c",
   "outputs": [],
   "execution_count": 46
  },
  {
   "metadata": {
    "ExecuteTime": {
     "end_time": "2025-10-04T19:07:24.990335Z",
     "start_time": "2025-10-04T19:07:24.985632Z"
    }
   },
   "cell_type": "code",
   "source": "unified['label'].value_counts()\n",
   "id": "84c66345810fbe4d",
   "outputs": [
    {
     "data": {
      "text/plain": [
       "label\n",
       "Candidate         8023\n",
       "False Positive    6903\n",
       "Confirmed         6298\n",
       "Name: count, dtype: int64"
      ]
     },
     "execution_count": 47,
     "metadata": {},
     "output_type": "execute_result"
    }
   ],
   "execution_count": 47
  },
  {
   "metadata": {
    "ExecuteTime": {
     "end_time": "2025-10-04T19:07:26.069207Z",
     "start_time": "2025-10-04T19:07:25.997768Z"
    }
   },
   "cell_type": "code",
   "source": [
    "def depth_to_ppm(row):\n",
    "    v = row['transit_depth']\n",
    "    try:\n",
    "        vv = float(v)\n",
    "    except:\n",
    "        return np.nan\n",
    "    if row['mission']=='K2':\n",
    "        return vv * 10000.0\n",
    "    return vv\n",
    "unified['transit_depth_ppm'] = unified.apply(depth_to_ppm, axis=1)"
   ],
   "id": "7d5d92205438a652",
   "outputs": [],
   "execution_count": 48
  },
  {
   "metadata": {},
   "cell_type": "code",
   "outputs": [],
   "execution_count": null,
   "source": "",
   "id": "20a0dba545cc9e75"
  }
 ],
 "metadata": {
  "kernelspec": {
   "display_name": "Python 3",
   "language": "python",
   "name": "python3"
  },
  "language_info": {
   "codemirror_mode": {
    "name": "ipython",
    "version": 2
   },
   "file_extension": ".py",
   "mimetype": "text/x-python",
   "name": "python",
   "nbconvert_exporter": "python",
   "pygments_lexer": "ipython2",
   "version": "2.7.6"
  }
 },
 "nbformat": 4,
 "nbformat_minor": 5
}
